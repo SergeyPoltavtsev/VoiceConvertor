{
 "cells": [
  {
   "cell_type": "code",
   "execution_count": 1,
   "metadata": {
    "collapsed": false
   },
   "outputs": [],
   "source": [
    "# storage\n",
    "from Storage.TFStorage import *\n",
    "\n",
    "# Config\n",
    "import Utils.Eva_config_consts as config\n",
    "\n",
    "# for auto-reloading extenrnal modules\n",
    "# see http://stackoverflow.com/questions/1907993/autoreload-of-modules-in-ipython\n",
    "%load_ext autoreload\n",
    "%autoreload 2"
   ]
  },
  {
   "cell_type": "markdown",
   "metadata": {
    "collapsed": true
   },
   "source": [
    "## TF Records\n",
    "### Reading single row"
   ]
  },
  {
   "cell_type": "code",
   "execution_count": 2,
   "metadata": {},
   "outputs": [],
   "source": [
    "sess = tf.InteractiveSession()\n",
    "with TFStorage(config.DATESET_FILE_PATH, TFStorageOpenOptions.READ) as storage:\n",
    "    spectrum, phoneme, speaker = storage._read_one_example()\n",
    "\n",
    "    # Required. See below for explanation\n",
    "    init = tf.global_variables_initializer()\n",
    "    sess.run(init)\n",
    "    tf.train.start_queue_runners(sess=sess)\n",
    "\n",
    "    spectrum_val_1, phoneme_val_1, speaker_val_1 = sess.run([spectrum, phoneme, speaker])\n",
    "    spectrum_val_2, phoneme_val_2, speaker_val_2 = sess.run([spectrum, phoneme, speaker])"
   ]
  },
  {
   "cell_type": "code",
   "execution_count": 3,
   "metadata": {},
   "outputs": [
    {
     "data": {
      "text/plain": [
       "11264"
      ]
     },
     "execution_count": 3,
     "metadata": {},
     "output_type": "execute_result"
    }
   ],
   "source": [
    "len(spectrum_val_1)"
   ]
  },
  {
   "cell_type": "code",
   "execution_count": 5,
   "metadata": {},
   "outputs": [],
   "source": [
    "sess.close()"
   ]
  },
  {
   "cell_type": "markdown",
   "metadata": {},
   "source": [
    "## Reading a batch"
   ]
  },
  {
   "cell_type": "code",
   "execution_count": 6,
   "metadata": {
    "collapsed": false
   },
   "outputs": [],
   "source": [
    "sess = tf.InteractiveSession()\n",
    "with TFStorage(config.DATESET_FILE_PATH, TFStorageOpenOptions.READ) as storage:\n",
    "    spectrograms, phonemes = storage.inputs(TFStorageLabelOption.PHONEME, config.BATCH_SIZE)\n",
    "\n",
    "    # Required. See below for explanation\n",
    "    init = tf.global_variables_initializer()\n",
    "    sess.run(init)\n",
    "    tf.train.start_queue_runners(sess=sess)\n",
    "\n",
    "    spectrograms_batch_1, phoneme_batch_1 = sess.run([spectrograms, phonemes])"
   ]
  },
  {
   "cell_type": "code",
   "execution_count": 11,
   "metadata": {
    "collapsed": true
   },
   "outputs": [
    {
     "data": {
      "text/plain": [
       "(512, 11, 2)"
      ]
     },
     "execution_count": 11,
     "metadata": {},
     "output_type": "execute_result"
    }
   ],
   "source": [
    "spectrograms_batch_1[0].shape"
   ]
  },
  {
   "cell_type": "code",
   "execution_count": 9,
   "metadata": {},
   "outputs": [],
   "source": [
    ""
   ]
  },
  {
   "cell_type": "code",
   "execution_count": null,
   "metadata": {},
   "outputs": [],
   "source": [
    ""
   ]
  }
 ],
 "metadata": {
  "kernelspec": {
   "display_name": "Python 2",
   "language": "python",
   "name": "python2"
  },
  "language_info": {
   "codemirror_mode": {
    "name": "ipython",
    "version": 2.0
   },
   "file_extension": ".py",
   "mimetype": "text/x-python",
   "name": "python",
   "nbconvert_exporter": "python",
   "pygments_lexer": "ipython2",
   "version": "2.7.11"
  }
 },
 "nbformat": 4,
 "nbformat_minor": 0
}