{
 "cells": [
  {
   "cell_type": "code",
   "execution_count": 1,
   "metadata": {
    "collapsed": false
   },
   "outputs": [],
   "source": [
    "# storage\n",
    "from Storage.TFStorage import *\n",
    "\n",
    "# Config\n",
    "import Utils.Eva_config_consts as config\n",
    "\n",
    "import time\n",
    "\n",
    "# for auto-reloading extenrnal modules\n",
    "# see http://stackoverflow.com/questions/1907993/autoreload-of-modules-in-ipython\n",
    "%load_ext autoreload\n",
    "%autoreload 2"
   ]
  },
  {
   "cell_type": "markdown",
   "metadata": {
    "collapsed": true
   },
   "source": [
    "## TF Records\n",
    "### Reading single row"
   ]
  },
  {
   "cell_type": "code",
   "execution_count": 3,
   "metadata": {
    "collapsed": true
   },
   "outputs": [
    {
     "name": "stderr",
     "output_type": "stream",
     "text": [
      "[autoreload of Storage.TFStorage failed: Traceback (most recent call last):\n  File \"/Users/Sergey/anaconda/lib/python2.7/site-packages/IPython/extensions/autoreload.py\", line 247, in check\n    superreload(m, reload, self.old_objects)\nAttributeError: __abstractmethods__\n]\n"
     ]
    }
   ],
   "source": [
    "sess = tf.InteractiveSession()\n",
    "with TFStorage(config.DATESET_FILE_PATH(), TFStorageOpenOptions.READ) as storage:\n",
    "    spectrum, phoneme, speaker = storage._read_one_example()\n",
    "\n",
    "    # Required. See below for explanation\n",
    "    init = tf.global_variables_initializer()\n",
    "    sess.run(init)\n",
    "    tf.train.start_queue_runners(sess=sess)\n",
    "\n",
    "    spectrum_val_1, phoneme_val_1, speaker_val_1 = sess.run([spectrum, phoneme, speaker])\n",
    "    spectrum_val_2, phoneme_val_2, speaker_val_2 = sess.run([spectrum, phoneme, speaker])"
   ]
  },
  {
   "cell_type": "code",
   "execution_count": 4,
   "metadata": {
    "collapsed": false
   },
   "outputs": [
    {
     "name": "stdout",
     "output_type": "stream",
     "text": [
      "11264\n60\nfcjf0\n"
     ]
    }
   ],
   "source": [
    "print len(spectrum_val_1)\n",
    "print phoneme_val_1\n",
    "print speaker_val_1"
   ]
  },
  {
   "cell_type": "code",
   "execution_count": 6,
   "metadata": {
    "collapsed": true
   },
   "outputs": [],
   "source": [
    "sess.close()"
   ]
  },
  {
   "cell_type": "markdown",
   "metadata": {},
   "source": [
    "## Reading a batch"
   ]
  },
  {
   "cell_type": "code",
   "execution_count": 2,
   "metadata": {
    "collapsed": false
   },
   "outputs": [
    {
     "name": "stdout",
     "output_type": "stream",
     "text": [
      "initialization: \n0.109791994095\nfirst read: \n21.8403120041\nseacond read: \n0.0326519012451\n"
     ]
    }
   ],
   "source": [
    "sess = tf.InteractiveSession()\n",
    "with TFStorage(config.DATESET_FILE_PATH(), TFStorageOpenOptions.READ) as storage:\n",
    "    start_time = time.time()\n",
    "\n",
    "    # scaling down the batch size\n",
    "    spectrograms, phonemes = storage.inputs(TFStorageLabelOption.PHONEME, 16)#config.BATCH_SIZE)\n",
    "\n",
    "    # Required. See below for explanation\n",
    "    init = tf.global_variables_initializer()\n",
    "    sess.run(init)\n",
    "    tf.train.start_queue_runners(sess=sess)\n",
    "\n",
    "    init_done_time = time.time()\n",
    "    spectrograms_batch_1, phoneme_batch_1 = sess.run([spectrograms, phonemes])\n",
    "\n",
    "    first_read_done = time.time()\n",
    "    spectrograms_batch_2, phoneme_batch_2 = sess.run([spectrograms, phonemes])\n",
    "    second_read_done = time.time()\n",
    "\n",
    "    print \"initialization: \"\n",
    "    print init_done_time - start_time\n",
    "\n",
    "    print \"first read: \"\n",
    "    print first_read_done - init_done_time\n",
    "\n",
    "    print \"seacond read: \"\n",
    "    print second_read_done - first_read_done"
   ]
  },
  {
   "cell_type": "code",
   "execution_count": 5,
   "metadata": {
    "collapsed": false
   },
   "outputs": [
    {
     "data": {
      "text/plain": [
       "(512, 11, 2)"
      ]
     },
     "execution_count": 5,
     "metadata": {},
     "output_type": "execute_result"
    }
   ],
   "source": [
    "spectrograms_batch_1[0].shape"
   ]
  },
  {
   "cell_type": "code",
   "execution_count": 8,
   "metadata": {},
   "outputs": [
    {
     "data": {
      "text/plain": [
       "array([ 0, 37,  4, 55, 38, 29, 38, 17, 45,  5, 17,  4, 57, 30, 53, 56])"
      ]
     },
     "execution_count": 8,
     "metadata": {},
     "output_type": "execute_result"
    }
   ],
   "source": [
    "phoneme_batch_1"
   ]
  },
  {
   "cell_type": "markdown",
   "metadata": {},
   "source": [
    "## Getting total number of examples in the file"
   ]
  },
  {
   "cell_type": "code",
   "execution_count": 2,
   "metadata": {
    "collapsed": true
   },
   "outputs": [],
   "source": [
    "row_numer = get_total_number_of_rows(config.DATESET_FILE_PATH())"
   ]
  },
  {
   "cell_type": "code",
   "execution_count": 4,
   "metadata": {
    "collapsed": false
   },
   "outputs": [
    {
     "name": "stdout",
     "output_type": "stream",
     "text": [
      "231773\n"
     ]
    }
   ],
   "source": [
    "print row_numer"
   ]
  },
  {
   "cell_type": "code",
   "execution_count": 5,
   "metadata": {
    "collapsed": true
   },
   "outputs": [],
   "source": [
    "config.TOTAL_TIMIT_PHONEME_LIST\n",
    "ph = config.TOTAL_TIMIT_PHONEME_LIST[0]"
   ]
  },
  {
   "cell_type": "code",
   "execution_count": 7,
   "metadata": {},
   "outputs": [
    {
     "data": {
      "text/plain": [
       "0"
      ]
     },
     "execution_count": 7,
     "metadata": {},
     "output_type": "execute_result"
    }
   ],
   "source": [
    "config.TOTAL_TIMIT_PHONEME_LIST.index(ph)"
   ]
  },
  {
   "cell_type": "code",
   "execution_count": null,
   "metadata": {},
   "outputs": [],
   "source": [
    ""
   ]
  }
 ],
 "metadata": {
  "kernelspec": {
   "display_name": "Python 2",
   "language": "python",
   "name": "python2"
  },
  "language_info": {
   "codemirror_mode": {
    "name": "ipython",
    "version": 2.0
   },
   "file_extension": ".py",
   "mimetype": "text/x-python",
   "name": "python",
   "nbconvert_exporter": "python",
   "pygments_lexer": "ipython2",
   "version": "2.7.11"
  }
 },
 "nbformat": 4,
 "nbformat_minor": 0
}