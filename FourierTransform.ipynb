{
 "cells": [
  {
   "cell_type": "code",
   "execution_count": 137,
   "metadata": {
    "collapsed": true
   },
   "outputs": [],
   "source": [
    "import numpy as np\n",
    "import math as math\n",
    "# Spectrograms\n",
    "from Utils.SpectrogramFactory import SpectrogramFactory\n",
    "from Utils.Spectrogram import Spectrogram"
   ]
  },
  {
   "cell_type": "code",
   "execution_count": 4,
   "metadata": {
    "collapsed": true
   },
   "outputs": [],
   "source": [
    "def DFT_slow(x):\n",
    "    \"\"\"Compute the discrete Fourier Transform of the 1D array x\"\"\"\n",
    "    x = np.asarray(x, dtype=float)\n",
    "    N = x.shape[0]\n",
    "    n = np.arange(N)\n",
    "    k = n.reshape((N, 1))\n",
    "    M = np.exp(-2j * np.pi * k * n / N)\n",
    "    return np.dot(M, x)"
   ]
  },
  {
   "cell_type": "code",
   "execution_count": null,
   "metadata": {
    "collapsed": true
   },
   "outputs": [],
   "source": [
    "N = 100\n",
    "x = np.random.random(N)\n",
    "n = np.arange(N)\n",
    "k = n.reshape((N, 1))\n",
    "M = np.exp(-2j * np.pi * k * n / N)"
   ]
  },
  {
   "cell_type": "code",
   "execution_count": null,
   "metadata": {
    "collapsed": true
   },
   "outputs": [],
   "source": [
    "def _calculate_spectrogram(self):\n",
    "        \"\"\"\n",
    "        Calculates a spectrogram from wav file frames using Fourier transform. The output matrix contains \n",
    "        intensity both for positive and negative frequencies.\n",
    "        \n",
    "        Inputs:\n",
    "        - wave_form: wav file frames\n",
    "        \"\"\"\n",
    "        self._fftSize = 2*self.window_size\n",
    "        fftB = int(math.floor(self.window_size/2))\n",
    "        fftE = int(fftB + self.window_size)\n",
    "        fftBuffer = np.zeros(self._fftSize)\n",
    "\n",
    "        self._frameCount = int(math.floor((self._wave_form.size - self.window_size)/self.frame_step) + 1)\n",
    "        spectrum = np.zeros((self._fftSize, self._frameCount));\n",
    "        spectrum = spectrum + 0j\n",
    "\n",
    "        h = 0.54 - 0.46*np.cos(2*math.pi* np.arange(self.window_size)/(self.window_size-1))\n",
    "        for frameNumber in range(0,self._frameCount):\n",
    "            waveB = (frameNumber)*self.frame_step\n",
    "            waveE = waveB + self.window_size\n",
    "            fftBuffer = 0*fftBuffer #Make sure the entire buffer is empty\n",
    "            fftBuffer[fftB:fftE] = np.multiply(self._wave_form[waveB:waveE], h)\n",
    "            fftBuffer = np.fft.fftshift(fftBuffer)\n",
    "            spectrum[:,frameNumber] = np.fft.fft(fftBuffer)\n",
    "\n",
    "        return spectrum"
   ]
  },
  {
   "cell_type": "code",
   "execution_count": 138,
   "metadata": {
    "collapsed": true
   },
   "outputs": [],
   "source": [
    "spectrogramFactory = SpectrogramFactory()\n",
    "phonemeOffset = 64 * 5"
   ]
  },
  {
   "cell_type": "code",
   "execution_count": null,
   "metadata": {
    "collapsed": true
   },
   "outputs": [],
   "source": []
  },
  {
   "cell_type": "code",
   "execution_count": null,
   "metadata": {
    "collapsed": true
   },
   "outputs": [],
   "source": []
  }
 ],
 "metadata": {
  "kernelspec": {
   "display_name": "Python 2",
   "language": "python",
   "name": "python2"
  },
  "language_info": {
   "codemirror_mode": {
    "name": "ipython",
    "version": 2
   },
   "file_extension": ".py",
   "mimetype": "text/x-python",
   "name": "python",
   "nbconvert_exporter": "python",
   "pygments_lexer": "ipython2",
   "version": "2.7.11"
  }
 },
 "nbformat": 4,
 "nbformat_minor": 0
}
