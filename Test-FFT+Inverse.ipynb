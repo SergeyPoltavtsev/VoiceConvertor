{
 "cells": [
  {
   "cell_type": "code",
   "execution_count": 16,
   "metadata": {
    "collapsed": false
   },
   "outputs": [
    {
     "name": "stdout",
     "output_type": "stream",
     "text": [
      "The autoreload extension is already loaded. To reload it, use:\n  %reload_ext autoreload\n"
     ]
    }
   ],
   "source": [
    "import os\n",
    "\n",
    "# Utilities\n",
    "import Utils.folder_utils as folder_utils\n",
    "import Utils.TIMIT_utils as TIMIT_utils\n",
    "import Utils.image_utils as image_utils\n",
    "\n",
    "# Config\n",
    "import Utils.Eva_config_consts as config\n",
    "\n",
    "# Sound utils\n",
    "from Utils.nist_reader import NistReader\n",
    "import Utils.sound_utils as sound_utils\n",
    "\n",
    "# Spectrograms\n",
    "from Utils.SpectrogramFactory import SpectrogramFactory\n",
    "from Utils.Spectrogram import Spectrogram\n",
    "\n",
    "import Utils.Spectrogram as SpectrogramUtils\n",
    "\n",
    "%matplotlib inline\n",
    "\n",
    "# for auto-reloading extenrnal modules\n",
    "# see http://stackoverflow.com/questions/1907993/autoreload-of-modules-in-ipython\n",
    "%load_ext autoreload\n",
    "%autoreload 2"
   ]
  },
  {
   "cell_type": "code",
   "execution_count": 17,
   "metadata": {
    "collapsed": true
   },
   "outputs": [],
   "source": [
    "#sound\n",
    "path_to_flac = \"Data/TIMIT/timit/train\"\n",
    "path_to_flac_test_folder = \"TestFolder/TestData/fcjf0\"\n",
    "path_to_flac_test_folder_track = \"TestFolder/TestData/fcjf0/SA1.WAV\"\n",
    "\n",
    "#temp\n",
    "temp_folder = \"TestFolder/Temp\"\n",
    "temp_phonemes_folder = \"TestFolder/TempPhonemes\"\n",
    "test_output = \"TestFolder/Temp/results.wav\"\n",
    "#temp_image_to_process = \"/Volumes/Storage/processing.jpg\""
   ]
  },
  {
   "cell_type": "code",
   "execution_count": 18,
   "metadata": {
    "collapsed": false
   },
   "outputs": [
    {
     "data": {
      "text/plain": [
       "['TestFolder/TestData/fcjf0/SA1.WAV',\n 'TestFolder/TestData/fcjf0/SA2.WAV',\n 'TestFolder/TestData/fcjf0/SI1027.WAV',\n 'TestFolder/TestData/fcjf0/SI1657.WAV',\n 'TestFolder/TestData/fcjf0/SI648.WAV',\n 'TestFolder/TestData/fcjf0/SX127.WAV',\n 'TestFolder/TestData/fcjf0/SX217.WAV',\n 'TestFolder/TestData/fcjf0/SX307.WAV',\n 'TestFolder/TestData/fcjf0/SX37.WAV',\n 'TestFolder/TestData/fcjf0/SX397.WAV']"
      ]
     },
     "execution_count": 18,
     "metadata": {},
     "output_type": "execute_result"
    }
   ],
   "source": [
    "pathes = folder_utils.reverse_folder(path_to_flac_test_folder, \".WAV\")\n",
    "pathes"
   ]
  },
  {
   "cell_type": "code",
   "execution_count": 19,
   "metadata": {
    "collapsed": false
   },
   "outputs": [
    {
     "name": "stdout",
     "output_type": "stream",
     "text": [
      "Window size: 256\nWindow step: 128\n"
     ]
    }
   ],
   "source": [
    "print \"Window size: \" + str(config.WINDOW_SIZE)\n",
    "print \"Window step: \" + str(config.WINDOW_STEP)\n",
    "nistReader = NistReader()\n",
    "spectrogramFactory = SpectrogramFactory(window_size=config.WINDOW_SIZE, window_step=config.WINDOW_STEP)"
   ]
  },
  {
   "cell_type": "code",
   "execution_count": 20,
   "metadata": {
    "collapsed": false
   },
   "outputs": [
    {
     "name": "stdout",
     "output_type": "stream",
     "text": [
      "TestFolder/TestData/fcjf0/SA1.WAV\n"
     ]
    }
   ],
   "source": [
    "path = pathes[0]\n",
    "#sentence\n",
    "print path\n",
    "phonemes = TIMIT_utils.parse_phoneme_file(path)\n",
    "speaker = folder_utils.get_speaker_name(path)\n",
    "\n",
    "temp_speaker_folder = os.path.join(temp_folder, speaker)\n",
    "if not os.path.exists(temp_speaker_folder):\n",
    "    os.makedirs(temp_speaker_folder)\n",
    "    \n",
    "#converting to wave\n",
    "wav_file = nistReader.Nist2Wav(path, temp_speaker_folder)\n",
    "\n",
    "for i in range(len(phonemes)):\n",
    "    phoneme = phonemes[i]\n",
    "    #Cutting one phoneme\n",
    "    if i == 0 or i == len(phonemes):\n",
    "        start = int(phoneme[0])\n",
    "        end = int(phoneme[1])\n",
    "    else:\n",
    "        start = int(phoneme[0]) - config.PHONEME_OFFSET\n",
    "        end = int(phoneme[1]) + config.PHONEME_OFFSET\n",
    "        \n",
    "    # TODO: create a phoneme object\n",
    "    phone_file = sound_utils.cutPhonemeChunk(wav_file, temp_phonemes_folder, start, end, phoneme[2])\n",
    "    spectrogram = spectrogramFactory.create_spectrogram(phone_file)"
   ]
  },
  {
   "cell_type": "markdown",
   "metadata": {
    "collapsed": true
   },
   "source": [
    "# Testing"
   ]
  },
  {
   "cell_type": "code",
   "execution_count": 21,
   "metadata": {
    "collapsed": true
   },
   "outputs": [],
   "source": [
    "spectrogramObj = spectrogramFactory.create_spectrogram(wav_file)\n",
    "spectrogram = spectrogramObj.spectrogram_values\n",
    "\n",
    "waveform = SpectrogramUtils.InvertSpectrogram(spectrogram=spectrogram, window_size=config.WINDOW_SIZE,\n",
    "                                              window_step=config.WINDOW_STEP)\n",
    "sound_utils.save_to_wav(test_output, waveform)"
   ]
  },
  {
   "cell_type": "code",
   "execution_count": 22,
   "metadata": {},
   "outputs": [
    {
     "name": "stdout",
     "output_type": "stream",
     "text": [
      "(512, 364)\ninput: TestFolder/Temp/fcjf0/SA1.wav\nresult: TestFolder/Temp/results.wav\n"
     ]
    }
   ],
   "source": [
    "print spectrogram.shape\n",
    "print \"input: \" + wav_file\n",
    "print \"result: \" + test_output"
   ]
  },
  {
   "cell_type": "markdown",
   "metadata": {},
   "source": [
    "## Experiments"
   ]
  },
  {
   "cell_type": "code",
   "execution_count": 33,
   "metadata": {},
   "outputs": [],
   "source": [
    "from Utils.sound_utils import get_wav_info"
   ]
  },
  {
   "cell_type": "code",
   "execution_count": 36,
   "metadata": {},
   "outputs": [
    {
     "data": {
      "text/plain": [
       "0.29558018025978611"
      ]
     },
     "execution_count": 36,
     "metadata": {},
     "output_type": "execute_result"
    }
   ],
   "source": [
    "np.sum(waveform)"
   ]
  },
  {
   "cell_type": "code",
   "execution_count": 37,
   "metadata": {},
   "outputs": [
    {
     "data": {
      "text/plain": [
       "-0.38118343556410023"
      ]
     },
     "execution_count": 37,
     "metadata": {},
     "output_type": "execute_result"
    }
   ],
   "source": [
    "np.sum(wave_form)"
   ]
  },
  {
   "cell_type": "code",
   "execution_count": null,
   "metadata": {},
   "outputs": [],
   "source": [
    ""
   ]
  }
 ],
 "metadata": {
  "kernelspec": {
   "display_name": "Python 2",
   "language": "python",
   "name": "python2"
  },
  "language_info": {
   "codemirror_mode": {
    "name": "ipython",
    "version": 2.0
   },
   "file_extension": ".py",
   "mimetype": "text/x-python",
   "name": "python",
   "nbconvert_exporter": "python",
   "pygments_lexer": "ipython2",
   "version": "2.7.11"
  }
 },
 "nbformat": 4,
 "nbformat_minor": 0
}