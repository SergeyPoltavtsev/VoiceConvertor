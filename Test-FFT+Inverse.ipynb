{
 "cells": [
  {
   "cell_type": "code",
   "execution_count": 1,
   "metadata": {
    "collapsed": false
   },
   "outputs": [],
   "source": [
    "import os\n",
    "import math as math\n",
    "import numpy as np\n",
    "\n",
    "# Utilities\n",
    "import Utils.folder_utils as folder_utils\n",
    "import Utils.TIMIT_utils as TIMIT_utils\n",
    "import Utils.image_utils as image_utils\n",
    "\n",
    "# Sound utils\n",
    "from Utils.nist_reader import NistReader\n",
    "import Utils.sound_utils as sound_utils\n",
    "\n",
    "# Spectrograms\n",
    "from Utils.SpectrogramFactory import SpectrogramFactory\n",
    "from Utils.Spectrogram import Spectrogram\n",
    "\n",
    "import Utils.Spectrogram as SpectrogramUtils\n",
    "\n",
    "# Image utils\n",
    "from PIL import Image\n",
    "\n",
    "%matplotlib inline\n",
    "\n",
    "# for auto-reloading extenrnal modules\n",
    "# see http://stackoverflow.com/questions/1907993/autoreload-of-modules-in-ipython\n",
    "%load_ext autoreload\n",
    "%autoreload 2"
   ]
  },
  {
   "cell_type": "code",
   "execution_count": 2,
   "metadata": {
    "collapsed": true
   },
   "outputs": [],
   "source": [
    "#sound\n",
    "path_to_flac = \"Data/TIMIT/timit/train\"\n",
    "path_to_flac_test_folder = \"TestFolder/TestData/fcjf0\"\n",
    "path_to_flac_test_folder_track = \"TestFolder/TestData/fcjf0/SA1.WAV\"\n",
    "\n",
    "#temp\n",
    "temp_folder = \"TestFolder/Temp\"\n",
    "temp_phonemes_folder = \"TestFolder/TempPhonemes\"\n",
    "test_output = \"TestFolder/Temp/results.wav\"\n",
    "#temp_image_to_process = \"/Volumes/Storage/processing.jpg\""
   ]
  },
  {
   "cell_type": "code",
   "execution_count": 3,
   "metadata": {
    "collapsed": false
   },
   "outputs": [],
   "source": [
    "pathes = folder_utils.reverse_folder(path_to_flac_test_folder, \".WAV\")"
   ]
  },
  {
   "cell_type": "code",
   "execution_count": 4,
   "metadata": {
    "collapsed": false
   },
   "outputs": [
    {
     "data": {
      "text/plain": [
       "['TestFolder/TestData/fcjf0/SA1.WAV',\n",
       " 'TestFolder/TestData/fcjf0/SA2.WAV',\n",
       " 'TestFolder/TestData/fcjf0/SI1027.WAV',\n",
       " 'TestFolder/TestData/fcjf0/SI1657.WAV',\n",
       " 'TestFolder/TestData/fcjf0/SI648.WAV',\n",
       " 'TestFolder/TestData/fcjf0/SX127.WAV',\n",
       " 'TestFolder/TestData/fcjf0/SX217.WAV',\n",
       " 'TestFolder/TestData/fcjf0/SX307.WAV',\n",
       " 'TestFolder/TestData/fcjf0/SX37.WAV',\n",
       " 'TestFolder/TestData/fcjf0/SX397.WAV']"
      ]
     },
     "execution_count": 4,
     "metadata": {},
     "output_type": "execute_result"
    }
   ],
   "source": [
    "pathes"
   ]
  },
  {
   "cell_type": "code",
   "execution_count": 5,
   "metadata": {
    "collapsed": false
   },
   "outputs": [],
   "source": [
    "nistReader = NistReader()\n",
    "spectrogramFactory = SpectrogramFactory()\n",
    "phonemeOffset = 64 * 5"
   ]
  },
  {
   "cell_type": "code",
   "execution_count": 6,
   "metadata": {
    "collapsed": false
   },
   "outputs": [
    {
     "name": "stdout",
     "output_type": "stream",
     "text": [
      "TestFolder/TestData/fcjf0/SA1.WAV\n"
     ]
    }
   ],
   "source": [
    "path = pathes[0]\n",
    "#sentence\n",
    "print path\n",
    "phonemes = TIMIT_utils.parse_phoneme_file(path)\n",
    "speaker = folder_utils.get_speaker_name(path)\n",
    "\n",
    "temp_speaker_folder = os.path.join(temp_folder, speaker)\n",
    "if not os.path.exists(temp_speaker_folder):\n",
    "    os.makedirs(temp_speaker_folder)\n",
    "    \n",
    "#converting to wave\n",
    "wav_file = nistReader.Nist2Wav(path, temp_speaker_folder)\n",
    "#wav_file = SU.PCM2Wav(path, temp_speaker_folder)\n",
    "\n",
    "for i in range(len(phonemes)):\n",
    "    phoneme = phonemes[i]\n",
    "    #Cutting one phoneme\n",
    "    if i == 0 or i == len(phonemes):\n",
    "        start = int(phoneme[0])\n",
    "        end = int(phoneme[1])\n",
    "    else:\n",
    "        start = int(phoneme[0]) - phonemeOffset\n",
    "        end = int(phoneme[1]) + phonemeOffset\n",
    "        \n",
    "    # TODO: create a phoneme object\n",
    "    phone_file = sound_utils.cutPhonemeChunk(wav_file, temp_phonemes_folder, start, end, phoneme[2])\n",
    "    spectrogram = spectrogramFactory.create_spectrogram(phone_file) "
   ]
  },
  {
   "cell_type": "code",
   "execution_count": null,
   "metadata": {
    "collapsed": false
   },
   "outputs": [],
   "source": [
    "def InvertOneSpectrogram(spectrogram, window_size, frame_step):\n",
    "    _fftSize, _frameCount = spectrogram.shape\n",
    "    windowSize = math.floor(_fftSize/2);\n",
    "    waveSize = (_frameCount - 1) * frame_step + window_size\n",
    "    waveform = np.zeros(waveSize);\n",
    "    # To sum up total windowing effect\n",
    "    totalWindowingSum = np.zeros(waveSize);\n",
    "    h = 0.54 - 0.46*np.cos(2*math.pi* np.arange(window_size)/(window_size-1))\n",
    "    fftB = int(math.floor(window_size/2))\n",
    "    fftE = int(fftB + window_size)\n",
    "    for frameNumber in range(0,_frameCount):\n",
    "        waveB = (frameNumber)*frame_step\n",
    "        waveE = waveB + window_size\n",
    "        spectralSlice = spectrogram[:, frameNumber]\n",
    "        newFrame = np.fft.ifft(spectralSlice);\n",
    "        newFrame = np.real(np.fft.ifft(spectralSlice));\n",
    "        waveform[waveB:waveE] = waveform[waveB:waveE] + newFrame[fftB:fftE]\n",
    "        totalWindowingSum[waveB:waveE] = totalWindowingSum[waveB:waveE] + h;\n",
    "    waveform = np.divide(np.real(waveform),totalWindowingSum);\n",
    "    return waveform"
   ]
  },
  {
   "cell_type": "code",
   "execution_count": null,
   "metadata": {
    "collapsed": true
   },
   "outputs": [],
   "source": []
  },
  {
   "cell_type": "code",
   "execution_count": 12,
   "metadata": {
    "collapsed": true
   },
   "outputs": [],
   "source": [
    "window_size = 256\n",
    "frame_step = 64\n",
    "\n",
    "spectrogramObj = spectrogramFactory.create_spectrogram(wav_file) \n",
    "spectrogram = spectrogramObj.spectrogram_values\n",
    "\n",
    "waveform = SpectrogramUtils.InvertSpectrogram(spectrogram)\n",
    "sound_utils.save_to_wav(test_output, waveform)"
   ]
  },
  {
   "cell_type": "code",
   "execution_count": 11,
   "metadata": {
    "collapsed": false
   },
   "outputs": [],
   "source": [
    "\n"
   ]
  },
  {
   "cell_type": "code",
   "execution_count": null,
   "metadata": {
    "collapsed": true
   },
   "outputs": [],
   "source": []
  }
 ],
 "metadata": {
  "kernelspec": {
   "display_name": "Python 2",
   "language": "python",
   "name": "python2"
  },
  "language_info": {
   "codemirror_mode": {
    "name": "ipython",
    "version": 2
   },
   "file_extension": ".py",
   "mimetype": "text/x-python",
   "name": "python",
   "nbconvert_exporter": "python",
   "pygments_lexer": "ipython2",
   "version": "2.7.11"
  }
 },
 "nbformat": 4,
 "nbformat_minor": 0
}
