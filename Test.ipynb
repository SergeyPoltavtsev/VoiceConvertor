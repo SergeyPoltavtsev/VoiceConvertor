{
 "cells": [
  {
   "cell_type": "code",
   "execution_count": 12,
   "metadata": {
    "collapsed": false
   },
   "outputs": [
    {
     "name": "stdout",
     "output_type": "stream",
     "text": [
      "The autoreload extension is already loaded. To reload it, use:\n",
      "  %reload_ext autoreload\n"
     ]
    }
   ],
   "source": [
    "import os\n",
    "\n",
    "# Utilities\n",
    "import Utils.folder_utils as folder_utils\n",
    "import Utils.TIMIT_utils as TIMIT_utils\n",
    "import Utils.image_utils as image_utils\n",
    "\n",
    "# Sound utils\n",
    "from Utils.nist_reader import NistReader\n",
    "import Utils.sound_utils as sound_utils\n",
    "\n",
    "# Spectrograms\n",
    "from Utils.SpectrogramFactory import SpectrogramFactory\n",
    "from Utils.Spectrogram import Spectrogram\n",
    "\n",
    "# Old utils for comparisson\n",
    "import SoundUtils as SU\n",
    "import Spectograms as spectograms\n",
    "\n",
    "# Image utils\n",
    "from PIL import Image\n",
    "\n",
    "%matplotlib inline\n",
    "\n",
    "# for auto-reloading extenrnal modules\n",
    "# see http://stackoverflow.com/questions/1907993/autoreload-of-modules-in-ipython\n",
    "%load_ext autoreload\n",
    "%autoreload 2"
   ]
  },
  {
   "cell_type": "code",
   "execution_count": 2,
   "metadata": {
    "collapsed": true
   },
   "outputs": [],
   "source": [
    "#sound\n",
    "path_to_flac = \"Data/TIMIT/timit/train\"\n",
    "path_to_flac_test_folder = \"TestFolder/TestData/fcjf0\"\n",
    "path_to_flac_test_folder_track = \"TestFolder/TestData/fcjf0/SA1.WAV\"\n",
    "\n",
    "#temp\n",
    "temp_folder = \"TestFolder/Temp\"\n",
    "temp_phonemes_folder = \"TestFolder/TempPhonemes\"\n",
    "#temp_image_to_process = \"/Volumes/Storage/processing.jpg\""
   ]
  },
  {
   "cell_type": "code",
   "execution_count": 3,
   "metadata": {
    "collapsed": false
   },
   "outputs": [],
   "source": [
    "pathes = folder_utils.reverse_folder(path_to_flac_test_folder, \".WAV\")"
   ]
  },
  {
   "cell_type": "code",
   "execution_count": 4,
   "metadata": {
    "collapsed": false
   },
   "outputs": [
    {
     "data": {
      "text/plain": [
       "['TestFolder/TestData/fcjf0/SA1.WAV',\n",
       " 'TestFolder/TestData/fcjf0/SA2.WAV',\n",
       " 'TestFolder/TestData/fcjf0/SI1027.WAV',\n",
       " 'TestFolder/TestData/fcjf0/SI1657.WAV',\n",
       " 'TestFolder/TestData/fcjf0/SI648.WAV',\n",
       " 'TestFolder/TestData/fcjf0/SX127.WAV',\n",
       " 'TestFolder/TestData/fcjf0/SX217.WAV',\n",
       " 'TestFolder/TestData/fcjf0/SX307.WAV',\n",
       " 'TestFolder/TestData/fcjf0/SX37.WAV',\n",
       " 'TestFolder/TestData/fcjf0/SX397.WAV']"
      ]
     },
     "execution_count": 4,
     "metadata": {},
     "output_type": "execute_result"
    }
   ],
   "source": [
    "pathes"
   ]
  },
  {
   "cell_type": "code",
   "execution_count": 13,
   "metadata": {
    "collapsed": false
   },
   "outputs": [],
   "source": [
    "nistReader = NistReader()\n",
    "spectrogramFactory = SpectrogramFactory()\n",
    "phonemeOffset = 64 * 5"
   ]
  },
  {
   "cell_type": "code",
   "execution_count": 14,
   "metadata": {
    "collapsed": false
   },
   "outputs": [
    {
     "name": "stdout",
     "output_type": "stream",
     "text": [
      "TestFolder/TestData/fcjf0/SA1.WAV\n"
     ]
    }
   ],
   "source": [
    "path = pathes[0]\n",
    "#sentence\n",
    "print path\n",
    "phonemes = TIMIT_utils.parse_phoneme_file(path)\n",
    "speaker = folder_utils.get_speaker_name(path)\n",
    "\n",
    "temp_speaker_folder = os.path.join(temp_folder, speaker)\n",
    "if not os.path.exists(temp_speaker_folder):\n",
    "    os.makedirs(temp_speaker_folder)\n",
    "    \n",
    "#converting to wave\n",
    "wav_file = nistReader.Nist2Wav(path, temp_speaker_folder)\n",
    "#wav_file = SU.PCM2Wav(path, temp_speaker_folder)\n",
    "\n",
    "for i in range(len(phonemes)):\n",
    "    phoneme = phonemes[i]\n",
    "    #Cutting one phoneme\n",
    "    if i == 0 or i == len(phonemes):\n",
    "        start = int(phoneme[0])\n",
    "        end = int(phoneme[1])\n",
    "    else:\n",
    "        start = int(phoneme[0]) - phonemeOffset\n",
    "        end = int(phoneme[1]) + phonemeOffset\n",
    "        \n",
    "    # TODO: create a phoneme object\n",
    "    phone_file = sound_utils.cutPhonemeChunk(wav_file, temp_phonemes_folder, start, end, phoneme[2])\n",
    "    spectrogram = spectrogramFactory.create_spectrogram(phone_file) "
   ]
  },
  {
   "cell_type": "code",
   "execution_count": 15,
   "metadata": {
    "collapsed": false
   },
   "outputs": [],
   "source": [
    "########\n",
    "# TEST #\n",
    "########\n",
    "\n",
    "phoneme = phonemes[len(phonemes) / 2]\n",
    "\n",
    "start = int(phoneme[0]) - phonemeOffset\n",
    "end = int(phoneme[1]) + phonemeOffset\n",
    "        \n",
    "phone_file = sound_utils.cutPhonemeChunk(wav_file, temp_phonemes_folder, start, end, phoneme[2])"
   ]
  },
  {
   "cell_type": "code",
   "execution_count": 8,
   "metadata": {
    "collapsed": false
   },
   "outputs": [],
   "source": [
    "spectrogramFactory = SpectrogramFactory()\n",
    "spectrogram = spectrogramFactory.create_spectrogram(phone_file)"
   ]
  },
  {
   "cell_type": "code",
   "execution_count": 20,
   "metadata": {
    "collapsed": false
   },
   "outputs": [
    {
     "data": {
      "text/plain": [
       "(512, 36)"
      ]
     },
     "execution_count": 20,
     "metadata": {},
     "output_type": "execute_result"
    }
   ],
   "source": [
    "spectrogram.spectrogram_values.shape"
   ]
  },
  {
   "cell_type": "code",
   "execution_count": 22,
   "metadata": {
    "collapsed": false
   },
   "outputs": [],
   "source": [
    "import numpy as np\n",
    "posFreqs = spectrogram.spectrogram_values[0:256+1, :];\n",
    "negFreqs = np.flipud(spectrogram.spectrogram_values[256:,:])\n",
    "\n",
    "powerSpec = posFreqs;\n",
    "freqRange = np.arange(1,256+1);\n",
    "powerSpec[freqRange,:] = np.multiply(powerSpec[freqRange,:], negFreqs)\n",
    "\n",
    "magSpec = np.sqrt(powerSpec);"
   ]
  },
  {
   "cell_type": "code",
   "execution_count": 33,
   "metadata": {
    "collapsed": false
   },
   "outputs": [
    {
     "data": {
      "text/plain": [
       "array([-0.00410589+0.j,  0.00108074+0.j,  0.00335092+0.j,  0.00306417+0.j,\n",
       "        0.00180582+0.j,  0.00058493+0.j,  0.00348955+0.j,  0.00400205+0.j,\n",
       "        0.00382342+0.j,  0.00483490+0.j,  0.00793421+0.j,  0.00847890+0.j,\n",
       "        0.00719277+0.j,  0.00619805+0.j,  0.00549477+0.j,  0.00520837+0.j,\n",
       "        0.00458694+0.j,  0.00471925+0.j,  0.00477220+0.j,  0.00410071+0.j,\n",
       "        0.00423567+0.j,  0.00442445+0.j,  0.00518158+0.j,  0.00635291+0.j,\n",
       "        0.00526521+0.j,  0.00468408+0.j,  0.00620418+0.j,  0.00736744+0.j,\n",
       "        0.00801395+0.j,  0.00860625+0.j,  0.00978590+0.j,  0.00950952+0.j,\n",
       "        0.00768523+0.j,  0.00606677+0.j,  0.00596710+0.j,  0.00631009+0.j])"
      ]
     },
     "execution_count": 33,
     "metadata": {},
     "output_type": "execute_result"
    }
   ],
   "source": [
    "powerSpec[0,:]"
   ]
  },
  {
   "cell_type": "code",
   "execution_count": 35,
   "metadata": {
    "collapsed": false
   },
   "outputs": [
    {
     "data": {
      "text/plain": [
       "array([ -1.86207319e-09 -1.01721883e-08j,\n",
       "         5.71444001e-09 +1.56184805e-09j,\n",
       "         1.36746584e-08 +4.80228762e-08j,\n",
       "        -1.56973924e-09 -1.03801180e-08j,\n",
       "        -3.24049167e-09 -1.81750428e-08j,\n",
       "         2.04650448e-09 +2.30668435e-08j,\n",
       "         1.12034980e-08 +1.38962381e-08j,\n",
       "         3.89027529e-08 -3.72798827e-08j,\n",
       "         1.84968494e-09 +1.31943041e-10j,\n",
       "         1.45444249e-08 +5.13306996e-08j,\n",
       "         4.76669609e-08 -1.67097077e-09j,\n",
       "         1.59830215e-07 -3.26588054e-08j,\n",
       "         9.41712073e-09 +1.16411686e-09j,\n",
       "         3.36242581e-08 -8.42388794e-09j,\n",
       "         2.69395016e-09 -2.32154980e-09j,\n",
       "         2.66140945e-08 +1.04364486e-08j,\n",
       "         9.27449363e-09 -8.58573093e-09j,\n",
       "         1.39950607e-08 +1.11778698e-08j,\n",
       "         2.69833147e-08 -1.40571435e-08j,\n",
       "         1.52294186e-09 +5.71209730e-10j,\n",
       "         8.89592541e-09 -1.25851564e-09j,\n",
       "         1.69500992e-09 +3.00673569e-10j,\n",
       "         1.52832195e-08 +5.49651264e-09j,\n",
       "         3.63855797e-08 +1.87665573e-09j,\n",
       "         1.84589496e-08 -9.03231315e-09j,\n",
       "         3.87472309e-09 +1.16752674e-09j,\n",
       "         2.74436119e-08 +8.96282963e-09j,\n",
       "         4.94595128e-08 +5.09229539e-09j,\n",
       "         2.59670899e-08 -2.75897534e-09j,\n",
       "         3.63233128e-08 +1.15510572e-08j,\n",
       "         1.16373967e-07 +4.61788879e-09j,\n",
       "         6.11023204e-08 -1.05692345e-08j,\n",
       "         6.33758694e-08 -1.90453775e-08j,\n",
       "         4.36809956e-09 -2.01562890e-09j,\n",
       "         2.57392871e-08 +6.26199203e-09j,   1.84270706e-08 -3.00822852e-09j])"
      ]
     },
     "execution_count": 35,
     "metadata": {},
     "output_type": "execute_result"
    }
   ],
   "source": [
    "powerSpec[2,:]"
   ]
  },
  {
   "cell_type": "code",
   "execution_count": null,
   "metadata": {
    "collapsed": true
   },
   "outputs": [],
   "source": []
  }
 ],
 "metadata": {
  "kernelspec": {
   "display_name": "Python 2",
   "language": "python",
   "name": "python2"
  },
  "language_info": {
   "codemirror_mode": {
    "name": "ipython",
    "version": 2
   },
   "file_extension": ".py",
   "mimetype": "text/x-python",
   "name": "python",
   "nbconvert_exporter": "python",
   "pygments_lexer": "ipython2",
   "version": "2.7.11"
  }
 },
 "nbformat": 4,
 "nbformat_minor": 0
}
