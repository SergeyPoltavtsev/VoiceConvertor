{
 "cells": [
  {
   "cell_type": "code",
   "execution_count": 2,
   "metadata": {
    "collapsed": false
   },
   "outputs": [],
   "source": [
    "import os\n",
    "\n",
    "# Utilities\n",
    "import Utils.folder_utils as folder_utils\n",
    "import Utils.TIMIT_utils as TIMIT_utils\n",
    "import Utils.image_utils as image_utils\n",
    "\n",
    "# Sound utils\n",
    "from Utils.nist_reader import NistReader\n",
    "import Utils.sound_utils as sound_utils\n",
    "\n",
    "# Spectrograms\n",
    "from Utils.SpectrogramFactory import SpectrogramFactory\n",
    "from Utils.Spectrogram import Spectrogram\n",
    "\n",
    "# Image utils\n",
    "from PIL import Image\n",
    "\n",
    "%matplotlib inline\n",
    "\n",
    "# for auto-reloading extenrnal modules\n",
    "# see http://stackoverflow.com/questions/1907993/autoreload-of-modules-in-ipython\n",
    "%load_ext autoreload\n",
    "%autoreload 2"
   ]
  },
  {
   "cell_type": "code",
   "execution_count": 3,
   "metadata": {
    "collapsed": true
   },
   "outputs": [],
   "source": [
    "#sound\n",
    "path_to_flac = \"Data/TIMIT/timit/train\"\n",
    "path_to_flac_test_folder = \"TestFolder/TestData/fcjf0\"\n",
    "path_to_flac_test_folder_track = \"TestFolder/TestData/fcjf0/SA1.WAV\"\n",
    "\n",
    "#temp\n",
    "temp_folder = \"TestFolder/Temp\"\n",
    "temp_phonemes_folder = \"TestFolder/TempPhonemes\"\n",
    "#temp_image_to_process = \"/Volumes/Storage/processing.jpg\""
   ]
  },
  {
   "cell_type": "code",
   "execution_count": 4,
   "metadata": {
    "collapsed": false
   },
   "outputs": [],
   "source": [
    "pathes = folder_utils.reverse_folder(path_to_flac_test_folder, \".WAV\")"
   ]
  },
  {
   "cell_type": "code",
   "execution_count": 5,
   "metadata": {
    "collapsed": false
   },
   "outputs": [
    {
     "data": {
      "text/plain": [
       "['TestFolder/TestData/fcjf0/SA1.WAV',\n",
       " 'TestFolder/TestData/fcjf0/SA2.WAV',\n",
       " 'TestFolder/TestData/fcjf0/SI1027.WAV',\n",
       " 'TestFolder/TestData/fcjf0/SI1657.WAV',\n",
       " 'TestFolder/TestData/fcjf0/SI648.WAV',\n",
       " 'TestFolder/TestData/fcjf0/SX127.WAV',\n",
       " 'TestFolder/TestData/fcjf0/SX217.WAV',\n",
       " 'TestFolder/TestData/fcjf0/SX307.WAV',\n",
       " 'TestFolder/TestData/fcjf0/SX37.WAV',\n",
       " 'TestFolder/TestData/fcjf0/SX397.WAV']"
      ]
     },
     "execution_count": 5,
     "metadata": {},
     "output_type": "execute_result"
    }
   ],
   "source": [
    "pathes"
   ]
  },
  {
   "cell_type": "code",
   "execution_count": 6,
   "metadata": {
    "collapsed": false
   },
   "outputs": [],
   "source": [
    "nistReader = NistReader()\n",
    "spectrogramFactory = SpectrogramFactory()\n",
    "phonemeOffset = 64 * 5"
   ]
  },
  {
   "cell_type": "code",
   "execution_count": 7,
   "metadata": {
    "collapsed": false
   },
   "outputs": [
    {
     "name": "stdout",
     "output_type": "stream",
     "text": [
      "TestFolder/TestData/fcjf0/SA1.WAV\n"
     ]
    }
   ],
   "source": [
    "path = pathes[0]\n",
    "#sentence\n",
    "print path\n",
    "phonemes = TIMIT_utils.parse_phoneme_file(path)\n",
    "speaker = folder_utils.get_speaker_name(path)\n",
    "\n",
    "temp_speaker_folder = os.path.join(temp_folder, speaker)\n",
    "if not os.path.exists(temp_speaker_folder):\n",
    "    os.makedirs(temp_speaker_folder)\n",
    "    \n",
    "#converting to wave\n",
    "wav_file = nistReader.Nist2Wav(path, temp_speaker_folder)\n",
    "#wav_file = SU.PCM2Wav(path, temp_speaker_folder)\n",
    "\n",
    "for i in range(len(phonemes)):\n",
    "    phoneme = phonemes[i]\n",
    "    #Cutting one phoneme\n",
    "    if i == 0 or i == len(phonemes):\n",
    "        start = int(phoneme[0])\n",
    "        end = int(phoneme[1])\n",
    "    else:\n",
    "        start = int(phoneme[0]) - phonemeOffset\n",
    "        end = int(phoneme[1]) + phonemeOffset\n",
    "        \n",
    "    # TODO: create a phoneme object\n",
    "    phone_file = sound_utils.cutPhonemeChunk(wav_file, temp_phonemes_folder, start, end, phoneme[2])\n",
    "    spectrogram = spectrogramFactory.create_spectrogram(phone_file)"
   ]
  },
  {
   "cell_type": "code",
   "execution_count": 8,
   "metadata": {
    "collapsed": false
   },
   "outputs": [],
   "source": [
    "########\n",
    "# TEST #\n",
    "########\n",
    "\n",
    "phoneme = phonemes[len(phonemes) / 2]\n",
    "\n",
    "start = int(phoneme[0]) - phonemeOffset\n",
    "end = int(phoneme[1]) + phonemeOffset\n",
    "        \n",
    "phone_file = sound_utils.cutPhonemeChunk(wav_file, temp_phonemes_folder, start, end, phoneme[2])"
   ]
  },
  {
   "cell_type": "code",
   "execution_count": 9,
   "metadata": {
    "collapsed": false
   },
   "outputs": [],
   "source": [
    "spectrogramFactory = SpectrogramFactory()\n",
    "spectrogram = spectrogramFactory.create_spectrogram(phone_file)"
   ]
  },
  {
   "cell_type": "code",
   "execution_count": 10,
   "metadata": {
    "collapsed": false
   },
   "outputs": [
    {
     "data": {
      "text/plain": [
       "(512, 12)"
      ]
     },
     "execution_count": 10,
     "metadata": {},
     "output_type": "execute_result"
    }
   ],
   "source": [
    "spectrogram.spectrogram_values.shape"
   ]
  },
  {
   "cell_type": "code",
   "execution_count": 11,
   "metadata": {
    "collapsed": false
   },
   "outputs": [],
   "source": [
    "import numpy as np\n",
    "posFreqs = spectrogram.spectrogram_values[0:256+1, :];\n",
    "negFreqs = np.flipud(spectrogram.spectrogram_values[256:,:])\n",
    "\n",
    "powerSpec = posFreqs;\n",
    "freqRange = np.arange(1,256+1);\n",
    "powerSpec[freqRange,:] = np.multiply(powerSpec[freqRange,:], negFreqs)\n",
    "\n",
    "magSpec = np.sqrt(powerSpec);"
   ]
  },
  {
   "cell_type": "code",
   "execution_count": 12,
   "metadata": {
    "collapsed": false
   },
   "outputs": [
    {
     "data": {
      "text/plain": [
       "array([ 0.00836100+0.j,  0.00727717+0.j,  0.01003497+0.j,  0.00887806+0.j,\n",
       "       -0.00262595+0.j, -0.00737807+0.j, -0.00295518+0.j,  0.00227111+0.j,\n",
       "        0.00260382+0.j,  0.00302338+0.j,  0.00058657+0.j, -0.00329179+0.j])"
      ]
     },
     "execution_count": 12,
     "metadata": {},
     "output_type": "execute_result"
    }
   ],
   "source": [
    "powerSpec[0,:]"
   ]
  },
  {
   "cell_type": "code",
   "execution_count": 13,
   "metadata": {
    "collapsed": false
   },
   "outputs": [
    {
     "data": {
      "text/plain": [
       "array([  1.40251771e-07 +1.10970685e-07j,\n",
       "         4.33206354e-08 -6.28852186e-08j,\n",
       "         6.36172587e-08 +7.60844158e-08j,\n",
       "         8.45347214e-07 -3.05491849e-07j,\n",
       "        -5.67254972e-07 -1.19910090e-06j,\n",
       "        -4.80158619e-07 +3.01476181e-07j,\n",
       "         1.17051773e-09 +2.71565076e-09j,\n",
       "         1.04544812e-08 +7.70091429e-08j,\n",
       "         2.01785987e-07 +7.55665629e-08j,\n",
       "         7.86670623e-09 -3.70170552e-08j,\n",
       "        -1.03176258e-08 -4.87147601e-08j,   3.02313104e-10 -3.45361207e-10j])"
      ]
     },
     "execution_count": 13,
     "metadata": {},
     "output_type": "execute_result"
    }
   ],
   "source": [
    "powerSpec[2,:]"
   ]
  },
  {
   "cell_type": "code",
   "execution_count": null,
   "metadata": {
    "collapsed": true
   },
   "outputs": [],
   "source": [
    "self._fftSize = 2*self.window_size\n",
    "fftB = int(math.floor(self.window_size/2))\n",
    "fftE = int(fftB + self.window_size)\n",
    "fftBuffer = np.zeros(self._fftSize)\n",
    "\n",
    "self._frameCount = int(math.floor((self._wave_form.size - self.window_size)/self.frame_step) + 1)\n",
    "spectrum = np.zeros((self._fftSize, self._frameCount));\n",
    "spectrum = spectrum + 0j\n",
    "\n",
    "h = 0.54 - 0.46*np.cos(2*math.pi* np.arange(self.window_size)/(self.window_size-1))\n",
    "for frameNumber in range(0,self._frameCount):\n",
    "    waveB = (frameNumber)*self.frame_step\n",
    "    waveE = waveB + self.window_size\n",
    "    fftBuffer = 0*fftBuffer #Make sure the entire buffer is empty\n",
    "    fftBuffer[fftB:fftE] = np.multiply(self._wave_form[waveB:waveE], h)\n",
    "    fftBuffer = np.fft.fftshift(fftBuffer)\n",
    "    spectrum[:,frameNumber] = np.fft.fft(fftBuffer)"
   ]
  }
 ],
 "metadata": {
  "kernelspec": {
   "display_name": "Python 2",
   "language": "python",
   "name": "python2"
  },
  "language_info": {
   "codemirror_mode": {
    "name": "ipython",
    "version": 2.0
   },
   "file_extension": ".py",
   "mimetype": "text/x-python",
   "name": "python",
   "nbconvert_exporter": "python",
   "pygments_lexer": "ipython2",
   "version": "2.7.11"
  }
 },
 "nbformat": 4,
 "nbformat_minor": 0
}